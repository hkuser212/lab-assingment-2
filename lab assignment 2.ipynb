{
 "cells": [
  {
   "cell_type": "code",
   "execution_count": 1,
   "id": "9eff7e25-219e-4892-b9d3-5a1969c85a65",
   "metadata": {},
   "outputs": [],
   "source": [
    "import pandas as pd\n"
   ]
  },
  {
   "cell_type": "code",
   "execution_count": 2,
   "id": "4f4d7bbd-227f-489e-b64d-ed38efd3c37f",
   "metadata": {},
   "outputs": [],
   "source": [
    "\n",
    "data = pd.DataFrame()"
   ]
  },
  {
   "cell_type": "code",
   "execution_count": 3,
   "id": "5f2c3db3-ba44-4bfb-bc4a-a35fa1ca401b",
   "metadata": {},
   "outputs": [],
   "source": [
    "data['Name'] = ['Name1','Name2','Name3','Name4','Name5', 'Name6', 'Name7', 'Name8', 'Name9','Name10']\n",
    "data['Gender'] = ['m', 'f', 'm', 'f', 'm', 'm', 'm', 'f', 'f', 'm']\n",
    "data['age'] = ['12', '15', '16', '17', '18', '20', '21', '22', '25', '27']\n",
    "data['address'] = ['123', '1234', '12345', '1111', '1223', '1456', '156', '176', '186', '100']"
   ]
  },
  {
   "cell_type": "code",
   "execution_count": 4,
   "id": "55a48cb4-719e-4bed-a12a-677f154f9623",
   "metadata": {},
   "outputs": [
    {
     "name": "stdout",
     "output_type": "stream",
     "text": [
      "     Name Gender age address\n",
      "0   Name1      m  12     123\n",
      "1   Name2      f  15    1234\n",
      "2   Name3      m  16   12345\n",
      "3   Name4      f  17    1111\n",
      "4   Name5      m  18    1223\n",
      "5   Name6      m  20    1456\n",
      "6   Name7      m  21     156\n",
      "7   Name8      f  22     176\n",
      "8   Name9      f  25     186\n",
      "9  Name10      m  27     100\n"
     ]
    }
   ],
   "source": [
    "\n",
    "print(data)"
   ]
  },
  {
   "cell_type": "code",
   "execution_count": 5,
   "id": "0268329e-2e7f-4911-97fd-6aaf43010825",
   "metadata": {},
   "outputs": [
    {
     "name": "stdout",
     "output_type": "stream",
     "text": [
      "    Name Gender age address\n",
      "0  Name1      m  12     123\n",
      "1  Name2      f  15    1234\n",
      "2  Name3      m  16   12345\n",
      "3  Name4      f  17    1111\n",
      "4  Name5      m  18    1223\n"
     ]
    }
   ],
   "source": [
    "print(data.head())"
   ]
  },
  {
   "cell_type": "code",
   "execution_count": 6,
   "id": "b84ee97a-5586-469b-a3f0-03ca47514620",
   "metadata": {},
   "outputs": [
    {
     "name": "stdout",
     "output_type": "stream",
     "text": [
      "     Name Gender age address\n",
      "5   Name6      m  20    1456\n",
      "6   Name7      m  21     156\n",
      "7   Name8      f  22     176\n",
      "8   Name9      f  25     186\n",
      "9  Name10      m  27     100\n"
     ]
    }
   ],
   "source": [
    "\n",
    "\n",
    "print(data.tail())"
   ]
  },
  {
   "cell_type": "code",
   "execution_count": 7,
   "id": "b556cf0f-d22b-4838-9f71-45426a5feea8",
   "metadata": {},
   "outputs": [
    {
     "name": "stdout",
     "output_type": "stream",
     "text": [
      "gender female Gender\n",
      "m    0.6\n",
      "f    0.4\n",
      "Name: proportion, dtype: float64\n"
     ]
    }
   ],
   "source": [
    "print('gender female', data['Gender'].value_counts('f'))"
   ]
  },
  {
   "cell_type": "code",
   "execution_count": 8,
   "id": "2ea3eb39-7279-41b8-abee-012710772ad7",
   "metadata": {},
   "outputs": [],
   "source": [
    "data = data.replace('Name1', 'Name11').replace('Name2', 'Name12')\n"
   ]
  },
  {
   "cell_type": "code",
   "execution_count": 9,
   "id": "b70bd15a-7630-469a-912a-af6b49684e50",
   "metadata": {},
   "outputs": [
    {
     "name": "stdout",
     "output_type": "stream",
     "text": [
      "     Name Gender age address\n",
      "0  Name11      m  12     123\n",
      "1  Name12      f  15    1234\n",
      "2   Name3      m  16   12345\n",
      "3   Name4      f  17    1111\n",
      "4   Name5      m  18    1223\n",
      "5   Name6      m  20    1456\n",
      "6   Name7      m  21     156\n",
      "7   Name8      f  22     176\n",
      "8   Name9      f  25     186\n",
      "9  Name10      m  27     100\n"
     ]
    }
   ],
   "source": [
    "print(data)"
   ]
  },
  {
   "cell_type": "code",
   "execution_count": 10,
   "id": "17eae6a3-1328-49d5-a240-c06a97aa01b6",
   "metadata": {},
   "outputs": [
    {
     "name": "stdout",
     "output_type": "stream",
     "text": [
      "    Name  Gender    age  address\n",
      "0  False   False  False    False\n",
      "1  False   False  False    False\n",
      "2  False   False  False    False\n",
      "3  False   False  False    False\n",
      "4  False   False  False    False\n",
      "5  False   False  False    False\n",
      "6  False   False  False    False\n",
      "7  False   False  False    False\n",
      "8  False   False  False    False\n",
      "9  False   False  False    False\n"
     ]
    }
   ],
   "source": [
    "print(pd.isna(data))\n"
   ]
  },
  {
   "cell_type": "code",
   "execution_count": 11,
   "id": "605b1fc0-684f-430f-9144-24c90a6f4b03",
   "metadata": {},
   "outputs": [
    {
     "name": "stdout",
     "output_type": "stream",
     "text": [
      "missing values Name       0\n",
      "Gender     0\n",
      "age        0\n",
      "address    0\n",
      "dtype: int64\n"
     ]
    }
   ],
   "source": [
    "print('missing values',data.isnull().sum())"
   ]
  },
  {
   "cell_type": "code",
   "execution_count": 12,
   "id": "9828e129-0acb-47b6-ab78-df0944f10994",
   "metadata": {},
   "outputs": [
    {
     "name": "stdout",
     "output_type": "stream",
     "text": [
      "     Name Gender address\n",
      "0  Name11      m     123\n",
      "1  Name12      f    1234\n",
      "2   Name3      m   12345\n",
      "3   Name4      f    1111\n",
      "4   Name5      m    1223\n",
      "5   Name6      m    1456\n",
      "6   Name7      m     156\n",
      "7   Name8      f     176\n",
      "8   Name9      f     186\n",
      "9  Name10      m     100\n"
     ]
    }
   ],
   "source": [
    "print(data.drop(['age'],axis=1))\n"
   ]
  },
  {
   "cell_type": "code",
   "execution_count": 13,
   "id": "b4d2f86d-1159-4734-a501-4b8923339651",
   "metadata": {},
   "outputs": [
    {
     "name": "stdout",
     "output_type": "stream",
     "text": [
      "['m' 'f']\n"
     ]
    }
   ],
   "source": [
    "print(data['Gender'].unique())\n"
   ]
  },
  {
   "cell_type": "code",
   "execution_count": 14,
   "id": "c50f78ce-ffcf-40ca-b868-e15e37b579e4",
   "metadata": {},
   "outputs": [
    {
     "name": "stdout",
     "output_type": "stream",
     "text": [
      "NAME11\n",
      "NAME12\n",
      "NAME3\n",
      "NAME4\n",
      "NAME5\n",
      "NAME6\n",
      "NAME7\n",
      "NAME8\n",
      "NAME9\n",
      "NAME10\n"
     ]
    }
   ],
   "source": [
    "for Name1 in data['Name']:\n",
    "    print(Name1.upper())"
   ]
  },
  {
   "cell_type": "code",
   "execution_count": 17,
   "id": "56d70dd7-3dd9-4681-91e2-d903f2e4679c",
   "metadata": {},
   "outputs": [
    {
     "name": "stdout",
     "output_type": "stream",
     "text": [
      "27\n"
     ]
    }
   ],
   "source": [
    "print(data['age'].max())\n"
   ]
  },
  {
   "cell_type": "code",
   "execution_count": 18,
   "id": "1cb8af44-a4e4-4b70-b286-aa917d581095",
   "metadata": {},
   "outputs": [
    {
     "name": "stdout",
     "output_type": "stream",
     "text": [
      "12\n"
     ]
    }
   ],
   "source": [
    "print(data['age'].min())\n"
   ]
  },
  {
   "cell_type": "code",
   "execution_count": null,
   "id": "fdc9f83b-ea0f-4607-9c39-cf9beaeff0b6",
   "metadata": {},
   "outputs": [],
   "source": []
  }
 ],
 "metadata": {
  "kernelspec": {
   "display_name": "Python 3 (ipykernel)",
   "language": "python",
   "name": "python3"
  },
  "language_info": {
   "codemirror_mode": {
    "name": "ipython",
    "version": 3
   },
   "file_extension": ".py",
   "mimetype": "text/x-python",
   "name": "python",
   "nbconvert_exporter": "python",
   "pygments_lexer": "ipython3",
   "version": "3.12.0"
  }
 },
 "nbformat": 4,
 "nbformat_minor": 5
}
